{
 "cells": [
  {
   "cell_type": "markdown",
   "id": "31caa3f5-f450-4258-be9f-b125004c52f5",
   "metadata": {},
   "source": [
    "*Data Science Tools and Ecosystem*"
   ]
  },
  {
   "cell_type": "markdown",
   "id": "5df52d75-5337-4c8a-a109-e29707d8c781",
   "metadata": {},
   "source": [
    "In this notebook, Data Science Tools and Ecosystem are summarized"
   ]
  },
  {
   "cell_type": "markdown",
   "id": "8804af77-4e2c-4707-bd1c-e7a803830336",
   "metadata": {},
   "source": [
    "Some of the popular languages that Data Scientists use are:\n",
    "1. Python\n",
    "2. R\n",
    "3. Julia\n",
    "4. Java"
   ]
  },
  {
   "cell_type": "markdown",
   "id": "452a5f6a-3d89-4686-9927-ebbcb975624a",
   "metadata": {},
   "source": [
    "Some of the commonly used libraries used by Data Scientists include:\n",
    "1. Numpy\n",
    "2. Pandas\n",
    "3. Matplotlib\n",
    "4. Seaborn"
   ]
  },
  {
   "cell_type": "markdown",
   "id": "9e38bc69-9f8d-45da-a75c-18ed09891162",
   "metadata": {},
   "source": [
    "| Data Science Tools |\n",
    "|------------------- |\n",
    "| Python             |\n",
    "| R                  |\n",
    "| Jupyter notebooks  |\n"
   ]
  },
  {
   "cell_type": "markdown",
   "id": "fc8345ac-d115-42de-8a50-4e021109d611",
   "metadata": {},
   "source": [
    "***Below are a few examples of evaluating arithmetic expressions in Python***"
   ]
  },
  {
   "cell_type": "code",
   "execution_count": null,
   "id": "c9258f72-5673-4c3b-97cc-bfee11f0ed75",
   "metadata": {},
   "outputs": [],
   "source": [
    "(3*4)+5\n"
   ]
  },
  {
   "cell_type": "markdown",
   "id": "34c97e11-eefc-4b25-868c-8d0a05f59fb6",
   "metadata": {},
   "source": [
    "**Author**\n",
    "Nakendo Ibrahim L\n",
    "\n"
   ]
  },
  {
   "cell_type": "code",
   "execution_count": null,
   "id": "172a4a65-e311-40aa-a3ea-72aec325f7df",
   "metadata": {},
   "outputs": [],
   "source": []
  }
 ],
 "metadata": {
  "kernelspec": {
   "display_name": "Python 3 (ipykernel)",
   "language": "python",
   "name": "python3"
  },
  "language_info": {
   "codemirror_mode": {
    "name": "ipython",
    "version": 3
   },
   "file_extension": ".py",
   "mimetype": "text/x-python",
   "name": "python",
   "nbconvert_exporter": "python",
   "pygments_lexer": "ipython3",
   "version": "3.11.7"
  }
 },
 "nbformat": 4,
 "nbformat_minor": 5
}
